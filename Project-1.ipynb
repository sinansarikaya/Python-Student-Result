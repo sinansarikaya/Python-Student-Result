{
  "cells": [
    {
      "cell_type": "markdown",
      "source": [
        "# Proje 1\n",
        "\n",
        "Öğrenci not sistemini içeren bir projedir."
      ],
      "metadata": {
        "id": "lCvWa9oZrU7R"
      },
      "id": "lCvWa9oZrU7R"
    },
    {
      "cell_type": "markdown",
      "source": [
        "Pandas kütüphanesinin import edilmesi."
      ],
      "metadata": {
        "id": "rRQQ82vgshgC"
      },
      "id": "rRQQ82vgshgC"
    },
    {
      "cell_type": "code",
      "execution_count": 1,
      "id": "3942bcbe",
      "metadata": {
        "id": "3942bcbe"
      },
      "outputs": [],
      "source": [
        "import pandas as pd"
      ]
    },
    {
      "cell_type": "markdown",
      "source": [
        "**Öğrenci bilgilerinin girilmesi ve kontrol edilmesi**\n",
        "\n",
        "Inputlara girilen değerlerin fonksiyon içerisinde kontrolü ve doğru çıktıların bir sonraki aşamaya aktarılması. Number ve result değişkenlerinin int veri göndermesi, negatif sayı içermemesi ve result değişkeninin 100'den büyük olmaması sağlanır."
      ],
      "metadata": {
        "id": "flYAr0H6s39l"
      },
      "id": "flYAr0H6s39l"
    },
    {
      "cell_type": "code",
      "execution_count": 4,
      "id": "c8df0a15",
      "metadata": {
        "scrolled": true,
        "colab": {
          "base_uri": "https://localhost:8080/"
        },
        "id": "c8df0a15",
        "outputId": "98d12107-df12-4bcd-fd9a-1822712534c2"
      },
      "outputs": [
        {
          "name": "stdout",
          "output_type": "stream",
          "text": [
            "Name: Ad\n",
            "Surname: soyad\n",
            "number : -10\n",
            "result : 10\n",
            "The school number you entered is negative. Please re-enter!\n",
            "School Number: 15\n"
          ]
        }
      ],
      "source": [
        "def inputControl(number, result): #Control Function\n",
        "    \n",
        "    while True:\n",
        "        try: \n",
        "            number = int(number)\n",
        "            result = int(result)\n",
        "\n",
        "            assert number >= 0 # Test if it is negative\n",
        "            assert result >= 0 # Test if it is negative\n",
        "            assert result <= 100 # Test if it is greater than 100\n",
        "            break\n",
        "        except AssertionError:\n",
        "            if result > 100 or result < 0:\n",
        "              print(\"The result cannot be negative or greater than 100. Please re-enter!\")\n",
        "              result = input('Exam Result: ')\n",
        "            elif number < 0:\n",
        "              print(\"The school number you entered is negative. Please re-enter!\")\n",
        "              number = input('School Number: ')\n",
        "            else:\n",
        "              result = input('Exam Result: ')\n",
        "              number = input('School Number: ')\n",
        "            \n",
        "        except ValueError:\n",
        "            print('School number and exam result can only be numbers! Please re-enter!')\n",
        "            number = input('School Number: ')\n",
        "            result = input('Exam Result: ')\n",
        "    return (number, result)\n",
        "    \n",
        "name = input('Name: ')\n",
        "lastname = input('Surname: ')\n",
        "number = input('number : ')\n",
        "result = input(\"result : \")\n",
        "\n",
        "number, result = inputControl(number, result)"
      ]
    },
    {
      "cell_type": "markdown",
      "source": [
        "**Not aralığının oluşturulması ve öğrencinin geçip geçmediğinin kontrolü**\n",
        "\n",
        "Not aralıkları if koşulu ile girilen not süzgeçten geçirilir, öğrencinin geçip geçmediği bilgisi değişkene atanır ve bir sonraki aşamaya aktarılır. Notlara karşılık gelen harf notu wikipediadan alınmıştır. [Kaynağa buradan ulaşılabilir.](https://en.wikipedia.org/wiki/Academic_grading_in_the_United_States)"
      ],
      "metadata": {
        "id": "231njjdTwKWk"
      },
      "id": "231njjdTwKWk"
    },
    {
      "cell_type": "code",
      "execution_count": 7,
      "id": "6465b117",
      "metadata": {
        "colab": {
          "base_uri": "https://localhost:8080/"
        },
        "id": "6465b117",
        "outputId": "fe3f7f18-c75f-4c0c-8d4c-8a418fb89fee"
      },
      "outputs": [
        {
          "output_type": "stream",
          "name": "stdout",
          "text": [
            "Failed F 10\n"
          ]
        }
      ],
      "source": [
        "if int(result) >= 90 or int(result) >= 100:\n",
        "    status = 'Passed'\n",
        "    letter_grade = 'A'\n",
        "elif int(result) >= 80 or int(result) >= 89:\n",
        "    status = 'Passed'\n",
        "    letter_grade = 'B'\n",
        "elif int(result) >= 70 or int(result) >= 79:\n",
        "    status = 'Passed'\n",
        "    letter_grade = 'C'\n",
        "elif int(result) >= 60 or int(result) >= 69:\n",
        "    status = 'Passed'\n",
        "    letter_grade = 'D'\n",
        "elif int(result) >= 0 or int(result) >= 59:\n",
        "    status = 'Failed'\n",
        "    letter_grade = 'F'\n",
        "    result\n",
        "else:\n",
        "    status = 'Invalid value.'\n",
        "    letter_grade = ''\n",
        "    \n",
        "print(status, letter_grade, result)"
      ]
    },
    {
      "cell_type": "markdown",
      "source": [
        "**Gelen verilerin \"CSV\" dosyasına yazdırılması**\n",
        "\n",
        "Pandas kütüphanesi kullanılarak veriler \"studentList.csv\" dosyasına yazdırılır. Seçilen(Matematik) ders burada belirlenir. "
      ],
      "metadata": {
        "id": "m2Jc-NFUxTBa"
      },
      "id": "m2Jc-NFUxTBa"
    },
    {
      "cell_type": "code",
      "execution_count": null,
      "id": "2a48c92e",
      "metadata": {
        "id": "2a48c92e"
      },
      "outputs": [],
      "source": [
        "student_dict = {'Name': [name],\n",
        "                'Surname': [lastname],\n",
        "                'School Number': [number],\n",
        "                'Exam Result': [result],\n",
        "                'Letter Grade': [letter_grade],\n",
        "                'Status': [status],\n",
        "                'Lesson': 'Math'\n",
        "               }\n",
        "student_list = pd.DataFrame(student_dict)\n",
        "student_list.to_csv(\"studentList.csv\", mode='a', header=False, index=False)\n"
      ]
    },
    {
      "cell_type": "markdown",
      "source": [
        "**CSV dosyasına yazılan verilerin görüntülenmesi**\n",
        "\n",
        "\"studentList.csv\" dosyasına yazılan veriler ekrana tablo halinde yazdırılır. Bu aşamada hangi öğrenci kaç puan alarak geçip geçmediği bilgisine ulaşılabilir."
      ],
      "metadata": {
        "id": "Z1oP-0bAyPdf"
      },
      "id": "Z1oP-0bAyPdf"
    },
    {
      "cell_type": "code",
      "execution_count": null,
      "id": "59de20cc",
      "metadata": {
        "scrolled": true,
        "id": "59de20cc",
        "outputId": "605b0021-5983-44e4-a0c4-887ce250551c"
      },
      "outputs": [
        {
          "data": {
            "text/html": [
              "<div>\n",
              "<style scoped>\n",
              "    .dataframe tbody tr th:only-of-type {\n",
              "        vertical-align: middle;\n",
              "    }\n",
              "\n",
              "    .dataframe tbody tr th {\n",
              "        vertical-align: top;\n",
              "    }\n",
              "\n",
              "    .dataframe thead th {\n",
              "        text-align: right;\n",
              "    }\n",
              "</style>\n",
              "<table border=\"1\" class=\"dataframe\">\n",
              "  <thead>\n",
              "    <tr style=\"text-align: right;\">\n",
              "      <th></th>\n",
              "      <th>Name</th>\n",
              "      <th>Surname</th>\n",
              "      <th>School Number</th>\n",
              "      <th>Exam Result</th>\n",
              "      <th>Letter Grade</th>\n",
              "      <th>Status</th>\n",
              "      <th>Lesson</th>\n",
              "    </tr>\n",
              "  </thead>\n",
              "  <tbody>\n",
              "    <tr>\n",
              "      <th>0</th>\n",
              "      <td>Ahmet</td>\n",
              "      <td>Mehmet</td>\n",
              "      <td>223</td>\n",
              "      <td>75</td>\n",
              "      <td>C</td>\n",
              "      <td>Passed</td>\n",
              "      <td>Math</td>\n",
              "    </tr>\n",
              "    <tr>\n",
              "      <th>1</th>\n",
              "      <td>Sinan</td>\n",
              "      <td>Sarikaya</td>\n",
              "      <td>454</td>\n",
              "      <td>85</td>\n",
              "      <td>B</td>\n",
              "      <td>Passed</td>\n",
              "      <td>Math</td>\n",
              "    </tr>\n",
              "    <tr>\n",
              "      <th>2</th>\n",
              "      <td>Ali</td>\n",
              "      <td>Veli</td>\n",
              "      <td>887</td>\n",
              "      <td>40</td>\n",
              "      <td>F</td>\n",
              "      <td>Failed</td>\n",
              "      <td>Math</td>\n",
              "    </tr>\n",
              "    <tr>\n",
              "      <th>3</th>\n",
              "      <td>Mahmut</td>\n",
              "      <td>Ates</td>\n",
              "      <td>332</td>\n",
              "      <td>70</td>\n",
              "      <td>C</td>\n",
              "      <td>Passed</td>\n",
              "      <td>Math</td>\n",
              "    </tr>\n",
              "    <tr>\n",
              "      <th>4</th>\n",
              "      <td>Test</td>\n",
              "      <td>deneme</td>\n",
              "      <td>196</td>\n",
              "      <td>100</td>\n",
              "      <td>A</td>\n",
              "      <td>Passed</td>\n",
              "      <td>Math</td>\n",
              "    </tr>\n",
              "  </tbody>\n",
              "</table>\n",
              "</div>"
            ],
            "text/plain": [
              "     Name   Surname  School Number  Exam Result Letter Grade  Status Lesson\n",
              "0   Ahmet    Mehmet            223           75            C  Passed   Math\n",
              "1   Sinan  Sarikaya            454           85            B  Passed   Math\n",
              "2     Ali      Veli            887           40            F  Failed   Math\n",
              "3  Mahmut      Ates            332           70            C  Passed   Math\n",
              "4    Test    deneme            196          100            A  Passed   Math"
            ]
          },
          "execution_count": 9,
          "metadata": {},
          "output_type": "execute_result"
        }
      ],
      "source": [
        "student_list = pd.read_csv(\"studentList.csv\")\n",
        "student_list\n",
        "#student_list[student_list[\"Exam Result\"] >= 80]"
      ]
    },
    {
      "cell_type": "code",
      "execution_count": null,
      "id": "0792d4d1",
      "metadata": {
        "id": "0792d4d1"
      },
      "outputs": [],
      "source": [
        ""
      ]
    }
  ],
  "metadata": {
    "kernelspec": {
      "display_name": "Python 3 (ipykernel)",
      "language": "python",
      "name": "python3"
    },
    "language_info": {
      "codemirror_mode": {
        "name": "ipython",
        "version": 3
      },
      "file_extension": ".py",
      "mimetype": "text/x-python",
      "name": "python",
      "nbconvert_exporter": "python",
      "pygments_lexer": "ipython3",
      "version": "3.9.12"
    },
    "colab": {
      "name": "Project-1.ipynb",
      "provenance": []
    }
  },
  "nbformat": 4,
  "nbformat_minor": 5
}