{
 "cells": [
  {
   "cell_type": "code",
   "execution_count": 76,
   "id": "3942bcbe",
   "metadata": {},
   "outputs": [],
   "source": [
    "import pandas as pd"
   ]
  },
  {
   "cell_type": "code",
   "execution_count": 90,
   "id": "c8df0a15",
   "metadata": {
    "scrolled": true
   },
   "outputs": [
    {
     "name": "stdout",
     "output_type": "stream",
     "text": [
      "Name: Melike\n",
      "Surname: Gorgulu\n",
      "Okul No: 201601\n",
      "Sinav Notu: 100\n"
     ]
    }
   ],
   "source": [
    "def inputControl(number, result): #Control Function\n",
    "    try:\n",
    "        number = int(number)\n",
    "        result = int(result)\n",
    "        assert result >= 0 # Test if it is negative\n",
    "        assert result <= 100 # Test if it is greater than 100\n",
    "    except AssertionError:\n",
    "        return\"The number you entered is negative or greater than 100. Please re-enter!\"\n",
    "        #number = input('School Number: ')\n",
    "        #result = input('Exam Result: ')\n",
    "    except ValueError:\n",
    "        return 'School number and exam result can only be numbers! Please re-enter!'\n",
    "        #number = input('School Number: ')\n",
    "        #result = input('Exam Result: ')\n",
    "    \n",
    "name = input('Name: ')\n",
    "lastname = input('Surname: ')\n",
    "number = input('School Number: ')\n",
    "result = input('Exam Result: ')\n",
    "\n",
    "inputControl(number, result)"
   ]
  },
  {
   "cell_type": "code",
   "execution_count": 91,
   "id": "6465b117",
   "metadata": {},
   "outputs": [
    {
     "name": "stdout",
     "output_type": "stream",
     "text": [
      "Geçti A 100\n"
     ]
    }
   ],
   "source": [
    "if int(result) >= 90 or int(result) >= 100:\n",
    "    status = 'Geçti'\n",
    "    letter_grade = 'A'\n",
    "elif int(result) >= 80 or int(result) >= 89:\n",
    "    status = 'Geçti'\n",
    "    letter_grade = 'B'\n",
    "elif int(result) >= 70 or int(result) >= 79:\n",
    "    status = 'Geçti'\n",
    "    letter_grade = 'C'\n",
    "elif int(result) >= 60 or int(result) >= 69:\n",
    "    status = 'Geçti'\n",
    "    letter_grade = 'D'\n",
    "elif int(result) >= 0 or int(result) >= 59:\n",
    "    status = 'Kaldı'\n",
    "    letter_grade = 'F'\n",
    "    result\n",
    "else:\n",
    "    status = 'Geçersiz değer.'\n",
    "    letter_grade = ''\n",
    "    \n",
    "print(status, letter_grade, result)"
   ]
  },
  {
   "cell_type": "code",
   "execution_count": 92,
   "id": "2a48c92e",
   "metadata": {},
   "outputs": [],
   "source": [
    "student_dict = {'Name': [name],\n",
    "                'Surname': [lastname],\n",
    "                'School Number': [number],\n",
    "                'Exam Result': [result],\n",
    "                'Letter Grade': [letter_grade],\n",
    "                'Status': [status],\n",
    "                'Lesson': 'Math'\n",
    "               }\n",
    "student_list = pd.DataFrame(student_dict)\n",
    "student_list.to_csv(\"studentList.csv\", mode='a', header=False, index=False)\n"
   ]
  },
  {
   "cell_type": "code",
   "execution_count": 93,
   "id": "59de20cc",
   "metadata": {
    "scrolled": true
   },
   "outputs": [
    {
     "data": {
      "text/html": [
       "<div>\n",
       "<style scoped>\n",
       "    .dataframe tbody tr th:only-of-type {\n",
       "        vertical-align: middle;\n",
       "    }\n",
       "\n",
       "    .dataframe tbody tr th {\n",
       "        vertical-align: top;\n",
       "    }\n",
       "\n",
       "    .dataframe thead th {\n",
       "        text-align: right;\n",
       "    }\n",
       "</style>\n",
       "<table border=\"1\" class=\"dataframe\">\n",
       "  <thead>\n",
       "    <tr style=\"text-align: right;\">\n",
       "      <th></th>\n",
       "      <th>Name</th>\n",
       "      <th>Surname</th>\n",
       "      <th>School Number</th>\n",
       "      <th>Exam Result</th>\n",
       "      <th>Letter Grade</th>\n",
       "      <th>Status</th>\n",
       "      <th>Lesson</th>\n",
       "    </tr>\n",
       "  </thead>\n",
       "  <tbody>\n",
       "    <tr>\n",
       "      <th>0</th>\n",
       "      <td>Ahmet</td>\n",
       "      <td>Mehmet</td>\n",
       "      <td>223</td>\n",
       "      <td>75</td>\n",
       "      <td>C</td>\n",
       "      <td>Geçti</td>\n",
       "      <td>Math</td>\n",
       "    </tr>\n",
       "    <tr>\n",
       "      <th>1</th>\n",
       "      <td>Sinan</td>\n",
       "      <td>Sarikaya</td>\n",
       "      <td>454</td>\n",
       "      <td>85</td>\n",
       "      <td>B</td>\n",
       "      <td>Geçti</td>\n",
       "      <td>Math</td>\n",
       "    </tr>\n",
       "    <tr>\n",
       "      <th>2</th>\n",
       "      <td>Ali</td>\n",
       "      <td>Veli</td>\n",
       "      <td>887</td>\n",
       "      <td>40</td>\n",
       "      <td>F</td>\n",
       "      <td>Kaldı</td>\n",
       "      <td>Math</td>\n",
       "    </tr>\n",
       "    <tr>\n",
       "      <th>3</th>\n",
       "      <td>Melike</td>\n",
       "      <td>Gorgulu</td>\n",
       "      <td>201601</td>\n",
       "      <td>100</td>\n",
       "      <td>A</td>\n",
       "      <td>Geçti</td>\n",
       "      <td>Math</td>\n",
       "    </tr>\n",
       "  </tbody>\n",
       "</table>\n",
       "</div>"
      ],
      "text/plain": [
       "     Name   Surname  School Number  Exam Result Letter Grade Status Lesson\n",
       "0   Ahmet    Mehmet            223           75            C  Geçti   Math\n",
       "1   Sinan  Sarikaya            454           85            B  Geçti   Math\n",
       "2     Ali      Veli            887           40            F  Kaldı   Math\n",
       "3  Melike   Gorgulu         201601          100            A  Geçti   Math"
      ]
     },
     "execution_count": 93,
     "metadata": {},
     "output_type": "execute_result"
    }
   ],
   "source": [
    "student_list = pd.read_csv(\"studentList.csv\")\n",
    "student_list\n",
    "#student_list[student_list[\"Exam Result\"] >= 80]"
   ]
  },
  {
   "cell_type": "code",
   "execution_count": null,
   "id": "ee1ea624",
   "metadata": {},
   "outputs": [],
   "source": []
  }
 ],
 "metadata": {
  "kernelspec": {
   "display_name": "Python 3 (ipykernel)",
   "language": "python",
   "name": "python3"
  },
  "language_info": {
   "codemirror_mode": {
    "name": "ipython",
    "version": 3
   },
   "file_extension": ".py",
   "mimetype": "text/x-python",
   "name": "python",
   "nbconvert_exporter": "python",
   "pygments_lexer": "ipython3",
   "version": "3.9.12"
  }
 },
 "nbformat": 4,
 "nbformat_minor": 5
}
